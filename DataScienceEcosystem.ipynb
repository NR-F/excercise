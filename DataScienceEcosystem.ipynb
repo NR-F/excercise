{
 "cells": [
  {
   "cell_type": "markdown",
   "metadata": {},
   "source": [
    "<center>\n",
    "    <img src=\"https://cf-courses-data.s3.us.cloud-object-storage.appdomain.cloud/IBMDeveloperSkillsNetwork-DS0105EN-SkillsNetwork/labs/Module2/images/SN_web_lightmode.png\" width=\"300\" alt=\"cognitiveclass.ai logo\">\n",
    "</center>\n"
   ]
  },
  {
   "cell_type": "markdown",
   "metadata": {},
   "source": [
    "#### Add your code below following the instructions given in the course\n"
   ]
  },
  {
   "cell_type": "markdown",
   "metadata": {
    "tags": []
   },
   "source": [
    "<h2 class=\"alert alert-success alertsuccess\" style=\"margin-top: 20px\">\n",
    "Task 2\n",
    "</h2>"
   ]
  },
  {
   "cell_type": "markdown",
   "metadata": {},
   "source": [
    "# Data Science Tools and Ecosystem"
   ]
  },
  {
   "cell_type": "markdown",
   "metadata": {
    "tags": []
   },
   "source": [
    "# Data Science Tools and Ecosystem"
   ]
  },
  {
   "cell_type": "markdown",
   "metadata": {
    "tags": []
   },
   "source": [
    "<h2 class=\"alert alert-success alertsuccess\" style=\"margin-top: 20px\">\n",
    "Task 3\n",
    "</h2>"
   ]
  },
  {
   "cell_type": "markdown",
   "metadata": {},
   "source": [
    "## In this notebook, Data Science Tools and Ecosystem are summarized,\n",
    "## (some of Python arithmetic expression summarized too)"
   ]
  },
  {
   "cell_type": "markdown",
   "metadata": {
    "tags": []
   },
   "source": [
    "<h2 class=\"alert alert-success alertsuccess\" style=\"margin-top: 20px\">\n",
    "Task 10\n",
    "</h2>"
   ]
  },
  {
   "cell_type": "markdown",
   "metadata": {},
   "source": [
    "## List of Objects this notebook contain\n",
    "*   **Some of the popular languages that Data Scientists use**\n",
    "*   **Some of the commonly used libraries used by Data Scientists**\n",
    "*   **arithmetic expression in Python**"
   ]
  },
  {
   "cell_type": "markdown",
   "metadata": {
    "tags": []
   },
   "source": [
    "<h2 class=\"alert alert-success alertsuccess\" style=\"margin-top: 20px\">\n",
    "Task 4\n",
    "</h2>"
   ]
  },
  {
   "cell_type": "markdown",
   "metadata": {},
   "source": [
    "## Some of the popular languages that Data Scientists use are:\n",
    "\n",
    "<p>1.Python</p>\n",
    "<p>2.R</p>\n",
    "<p>3.SQL</p>\n",
    "<p>4.Java</p>"
   ]
  },
  {
   "cell_type": "markdown",
   "metadata": {
    "tags": []
   },
   "source": [
    "<h2 class=\"alert alert-success alertsuccess\" style=\"margin-top: 20px\">\n",
    "Task 5\n",
    "</h2>"
   ]
  },
  {
   "cell_type": "markdown",
   "metadata": {},
   "source": [
    "## Some of the commonly used libraries used by Data Scientists include:\n",
    "\n",
    "<p>1.Numpy</p>\n",
    "<p>2.Pandas</p>\n",
    "<p>3.Matplotlib</p>\n",
    "<p>4.SciPy</p>\n",
    "<p>5.SciKit-Learn</p>"
   ]
  },
  {
   "cell_type": "markdown",
   "metadata": {
    "tags": []
   },
   "source": [
    "<h2 class=\"alert alert-success alertsuccess\" style=\"margin-top: 20px\">\n",
    "Task 6\n",
    "</h2>"
   ]
  },
  {
   "cell_type": "markdown",
   "metadata": {},
   "source": [
    "## table of Data Science tools\n",
    "\n",
    "|Data Science Tools|\n",
    "|------------------|\n",
    "|RStudio|\n",
    "|Apache Spark|\n",
    "|Python|\n",
    "|Jupyter Notebook|"
   ]
  },
  {
   "cell_type": "markdown",
   "metadata": {
    "tags": []
   },
   "source": [
    "<h2 class=\"alert alert-success alertsuccess\" style=\"margin-top: 20px\">\n",
    "Task 7\n",
    "</h2>"
   ]
  },
  {
   "cell_type": "markdown",
   "metadata": {},
   "source": [
    "### Below are a few examples of evaluating arithmetic expressions in Python"
   ]
  },
  {
   "cell_type": "code",
   "execution_count": 1,
   "metadata": {
    "tags": []
   },
   "outputs": [
    {
     "name": "stdout",
     "output_type": "stream",
     "text": [
      "3+2= 5\n",
      "3-2= 1\n",
      "3*(4+5)= 27\n",
      "4/2= 4 2\n"
     ]
    }
   ],
   "source": [
    "print(\"3+2=\", 3+2)\n",
    "print(\"3-2=\", 3-2)\n",
    "print(\"3*(4+5)=\", 3*(4+5))\n",
    "print(\"4/2=\", 4,2)"
   ]
  },
  {
   "cell_type": "markdown",
   "metadata": {
    "tags": []
   },
   "source": [
    "<h2 class=\"alert alert-success alertsuccess\" style=\"margin-top: 20px\">\n",
    "Task 8\n",
    "</h2>"
   ]
  },
  {
   "cell_type": "markdown",
   "metadata": {},
   "source": [
    "<p> This a simple arithmetic expression to mutiply </p>\n",
    "(a*b)\n",
    "<p> also we can add  c  value </p>\n",
    "(a*b) + c"
   ]
  },
  {
   "cell_type": "code",
   "execution_count": 2,
   "metadata": {
    "tags": []
   },
   "outputs": [
    {
     "name": "stdout",
     "output_type": "stream",
     "text": [
      "(3*4)+5= 17\n"
     ]
    }
   ],
   "source": [
    "print(\"(3*4)+5=\", (3*4)+5)"
   ]
  },
  {
   "cell_type": "markdown",
   "metadata": {
    "tags": []
   },
   "source": [
    "<h2 class=\"alert alert-success alertsuccess\" style=\"margin-top: 20px\">\n",
    "Task 9\n",
    "</h2>"
   ]
  },
  {
   "cell_type": "markdown",
   "metadata": {},
   "source": [
    "## This will convert 200 minutes to hours by diving by 60"
   ]
  },
  {
   "cell_type": "code",
   "execution_count": 3,
   "metadata": {
    "tags": []
   },
   "outputs": [
    {
     "name": "stdout",
     "output_type": "stream",
     "text": [
      "3.3333333333333335\n"
     ]
    }
   ],
   "source": [
    "_200_minutes = 200\n",
    "minutes = 60\n",
    "print(_200_minutes/60)"
   ]
  },
  {
   "cell_type": "markdown",
   "metadata": {
    "tags": []
   },
   "source": [
    "<h2 class=\"alert alert-success alertsuccess\" style=\"margin-top: 20px\">\n",
    "Task 11\n",
    "</h2>"
   ]
  },
  {
   "cell_type": "markdown",
   "metadata": {},
   "source": [
    "## Author\n",
    "\n",
    "Nima"
   ]
  },
  {
   "cell_type": "markdown",
   "metadata": {},
   "source": [
    "## Author\n",
    "\n",
    "Nima"
   ]
  }
 ],
 "metadata": {
  "kernelspec": {
   "display_name": "Python",
   "language": "python",
   "name": "conda-env-python-py"
  },
  "language_info": {
   "codemirror_mode": {
    "name": "ipython",
    "version": 3
   },
   "file_extension": ".py",
   "mimetype": "text/x-python",
   "name": "python",
   "nbconvert_exporter": "python",
   "pygments_lexer": "ipython3",
   "version": "3.7.12"
  }
 },
 "nbformat": 4,
 "nbformat_minor": 4
}
